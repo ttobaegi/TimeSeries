{
  "nbformat": 4,
  "nbformat_minor": 0,
  "metadata": {
    "colab": {
      "name": "TimeSeries1_xgboost",
      "provenance": [],
      "authorship_tag": "ABX9TyOaA2sBQX519sIM45gIcgbX",
      "include_colab_link": true
    },
    "kernelspec": {
      "name": "python3",
      "display_name": "Python 3"
    },
    "language_info": {
      "name": "python"
    }
  },
  "cells": [
    {
      "cell_type": "markdown",
      "metadata": {
        "id": "view-in-github",
        "colab_type": "text"
      },
      "source": [
        "<a href=\"https://colab.research.google.com/github/ttobaegi/TimeSeries/blob/main/TimeSeries1_xgboost.ipynb\" target=\"_parent\"><img src=\"https://colab.research.google.com/assets/colab-badge.svg\" alt=\"Open In Colab\"/></a>"
      ]
    },
    {
      "cell_type": "code",
      "metadata": {
        "id": "_bBP_8SO7MCT"
      },
      "source": [
        "# xgboost\n",
        "import xgboost\n",
        "print(\"xgboost\", xgboost.__version__)"
      ],
      "execution_count": null,
      "outputs": []
    }
  ]
}